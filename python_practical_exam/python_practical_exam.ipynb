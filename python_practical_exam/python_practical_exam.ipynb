{
 "cells": [
  {
   "cell_type": "code",
   "execution_count": 1,
   "metadata": {},
   "outputs": [],
   "source": [
    "#importing all the required packages for analysis.\n",
    "import matplotlib.pyplot as plt\n",
    "import seaborn as sns\n",
    "import pandas as pd\n",
    "import numpy as np\n",
    "from sqlalchemy import create_engine, text\n",
    "import logging"
   ]
  },
  {
   "cell_type": "code",
   "execution_count": 10,
   "metadata": {},
   "outputs": [],
   "source": [
    "#importing the data to analyze\n",
    "import requests\n",
    "def read_web_csv(URL):\n",
    "      \"\"\"\n",
    "  Attempts to read a CSV file from a provided URL and returns a pandas DataFrame.\n",
    "\n",
    "  Args:\n",
    "      URL (str): The URL of the CSV file.\n",
    "\n",
    "  Returns:\n",
    "      pandas.DataFrame: The DataFrame containing the data from the CSV file if successful, \n",
    "                         otherwise raises an exception.\n",
    "\n",
    "  Raises:\n",
    "      requests.exceptions.RequestException: If there's an error downloading the file.\n",
    "      pd.errors.EmptyDataError: If the URL does not point to a valid CSV file.\n",
    "      Exception: Any other unexpected exception during processing.\n",
    "  \"\"\"\n",
    "      try:\n",
    "\n",
    "            #Reading the downloaded file content and converting it into a dataframe\n",
    "            df = pd.read_csv(URL)\n",
    "            print(\"CSV file read successfully!\")\n",
    "            return df\n",
    "      except requests.exceptions.RequestException as e:\n",
    "            print(\"Failed to load CSV file: {e}\")\n",
    "            raise e \n",
    "      except pd.errors.EmptyDataError as e:\n",
    "            print(\"The CSV file is not valid. Please check the URL and try again.\")\n",
    "            raise e\n",
    "      except Exception as e:\n",
    "            print(\"Failed to read the CSV file. Error: {e}\")\n",
    "            raise e\n",
    "\n"
   ]
  },
  {
   "cell_type": "code",
   "execution_count": 11,
   "metadata": {},
   "outputs": [
    {
     "name": "stdout",
     "output_type": "stream",
     "text": [
      "CSV file read successfully!\n"
     ]
    }
   ],
   "source": [
    "md_df = read_web_csv('https://raw.githubusercontent.com/Professor-blu/Data_science-_python_assignments/main/python_practical_exam/MD_agric_exam-4313.csv')"
   ]
  },
  {
   "cell_type": "code",
   "execution_count": 12,
   "metadata": {},
   "outputs": [
    {
     "data": {
      "text/html": [
       "<div>\n",
       "<style scoped>\n",
       "    .dataframe tbody tr th:only-of-type {\n",
       "        vertical-align: middle;\n",
       "    }\n",
       "\n",
       "    .dataframe tbody tr th {\n",
       "        vertical-align: top;\n",
       "    }\n",
       "\n",
       "    .dataframe thead th {\n",
       "        text-align: right;\n",
       "    }\n",
       "</style>\n",
       "<table border=\"1\" class=\"dataframe\">\n",
       "  <thead>\n",
       "    <tr style=\"text-align: right;\">\n",
       "      <th></th>\n",
       "      <th>Field_ID</th>\n",
       "      <th>Elevation</th>\n",
       "      <th>Rainfall</th>\n",
       "      <th>Min_temperature_C</th>\n",
       "      <th>Max_temperature_C</th>\n",
       "      <th>pH</th>\n",
       "      <th>Pollution_level</th>\n",
       "      <th>Plot_size</th>\n",
       "      <th>Annual_yield</th>\n",
       "      <th>Crop_type</th>\n",
       "    </tr>\n",
       "  </thead>\n",
       "  <tbody>\n",
       "    <tr>\n",
       "      <th>0</th>\n",
       "      <td>1162</td>\n",
       "      <td>494.95615</td>\n",
       "      <td>1507.6</td>\n",
       "      <td>-5.4</td>\n",
       "      <td>31.0</td>\n",
       "      <td>6.859436</td>\n",
       "      <td>0.007034</td>\n",
       "      <td>3.6</td>\n",
       "      <td>1.617421</td>\n",
       "      <td>coffee</td>\n",
       "    </tr>\n",
       "    <tr>\n",
       "      <th>1</th>\n",
       "      <td>5108</td>\n",
       "      <td>663.73390</td>\n",
       "      <td>581.0</td>\n",
       "      <td>-4.7</td>\n",
       "      <td>30.9</td>\n",
       "      <td>5.603219</td>\n",
       "      <td>0.289643</td>\n",
       "      <td>4.2</td>\n",
       "      <td>2.532497</td>\n",
       "      <td>potato</td>\n",
       "    </tr>\n",
       "    <tr>\n",
       "      <th>2</th>\n",
       "      <td>3504</td>\n",
       "      <td>396.87990</td>\n",
       "      <td>1715.1</td>\n",
       "      <td>-6.1</td>\n",
       "      <td>31.7</td>\n",
       "      <td>5.774116</td>\n",
       "      <td>0.000409</td>\n",
       "      <td>2.6</td>\n",
       "      <td>1.262207</td>\n",
       "      <td>banana</td>\n",
       "    </tr>\n",
       "    <tr>\n",
       "      <th>3</th>\n",
       "      <td>5351</td>\n",
       "      <td>594.80370</td>\n",
       "      <td>1748.0</td>\n",
       "      <td>-4.3</td>\n",
       "      <td>33.6</td>\n",
       "      <td>6.477415</td>\n",
       "      <td>0.088777</td>\n",
       "      <td>7.9</td>\n",
       "      <td>4.351564</td>\n",
       "      <td>wheat</td>\n",
       "    </tr>\n",
       "    <tr>\n",
       "      <th>4</th>\n",
       "      <td>905</td>\n",
       "      <td>609.49800</td>\n",
       "      <td>1395.8</td>\n",
       "      <td>-4.5</td>\n",
       "      <td>31.3</td>\n",
       "      <td>5.419586</td>\n",
       "      <td>0.050023</td>\n",
       "      <td>10.8</td>\n",
       "      <td>5.034791</td>\n",
       "      <td>cassava</td>\n",
       "    </tr>\n",
       "  </tbody>\n",
       "</table>\n",
       "</div>"
      ],
      "text/plain": [
       "   Field_ID  Elevation  Rainfall  Min_temperature_C  Max_temperature_C  \\\n",
       "0      1162  494.95615    1507.6               -5.4               31.0   \n",
       "1      5108  663.73390     581.0               -4.7               30.9   \n",
       "2      3504  396.87990    1715.1               -6.1               31.7   \n",
       "3      5351  594.80370    1748.0               -4.3               33.6   \n",
       "4       905  609.49800    1395.8               -4.5               31.3   \n",
       "\n",
       "         pH  Pollution_level  Plot_size  Annual_yield Crop_type  \n",
       "0  6.859436         0.007034        3.6      1.617421    coffee  \n",
       "1  5.603219         0.289643        4.2      2.532497    potato  \n",
       "2  5.774116         0.000409        2.6      1.262207    banana  \n",
       "3  6.477415         0.088777        7.9      4.351564     wheat  \n",
       "4  5.419586         0.050023       10.8      5.034791   cassava  "
      ]
     },
     "execution_count": 12,
     "metadata": {},
     "output_type": "execute_result"
    }
   ],
   "source": [
    "md_df.head()"
   ]
  },
  {
   "cell_type": "code",
   "execution_count": 13,
   "metadata": {},
   "outputs": [],
   "source": [
    "def count_unique_crop_type(df):\n",
    "    \"\"\"\n",
    "    Counts the number of unique crop types in the specified dataframe and returns the result.\n",
    "    \n",
    "    Args:\n",
    "        df (pandas.DataFrame): The input dataFrame\n",
    "\n",
    "    Returns:\n",
    "        int: The number of unique crop types in the specified dataframe.\n",
    "\n",
    "    Raises:\n",
    "        ValueError: If the input dataframe is empty.\n",
    "\n",
    "    \"\"\"\n",
    "    #Check if column \"Crop_type\" exists\n",
    "    if \"Crop_type\" not in df.columns:\n",
    "        raise ValueError(\"The specified dataframe does not contain the 'Crop_type' column.\")\n",
    "    #Counts the number of unique crop types\n",
    "    return df[\"Crop_type\"].nunique()"
   ]
  },
  {
   "cell_type": "code",
   "execution_count": 14,
   "metadata": {},
   "outputs": [
    {
     "data": {
      "text/plain": [
       "8"
      ]
     },
     "execution_count": 14,
     "metadata": {},
     "output_type": "execute_result"
    }
   ],
   "source": [
    "count_unique_crop_type(md_df)"
   ]
  },
  {
   "cell_type": "code",
   "execution_count": 22,
   "metadata": {},
   "outputs": [],
   "source": [
    "def max_annual_yield(df, crop_type):\n",
    "    \"\"\"\n",
    "    Returns the maximum annual yield for the specified crop type in the dataframe.\n",
    "\n",
    "    Args:\n",
    "        df(pandas.DataFrame): The input dataframe.\n",
    "        crop_type(str): The crop type for which to calculate the maximum annual yield.\n",
    "\n",
    "    Returns:\n",
    "        float: The maximum annual yield rounded off to 2 decimal places.\n",
    "\n",
    "    Raises:\n",
    "        ValueError: if the specified crop type is not present in the dataframe.\n",
    "    \"\"\"\n",
    "    #Check if column \"Crop_type\" exists\n",
    "    if \"Crop_type\" not in df.columns:\n",
    "        raise ValueError(\"The specified dataframe does not contain the crop_type column.\")\n",
    "    #checks if the specified crop type is present in the \"Crop_type\" column\n",
    "    if crop_type not in df[\"Crop_type\"].unique():\n",
    "        raise ValueError(\"The specified crop type is not present in the dataframe.\")\n",
    "    else:\n",
    "        #returns the maximum annual yield for specified crop type rounded off to 2 decimal places\n",
    "        max_yield = df.loc[df[\"Crop_type\"] == crop_type, \"Annual_yield\"].max()\n",
    "        return round(max_yield, 2)\n",
    "    "
   ]
  },
  {
   "cell_type": "code",
   "execution_count": 23,
   "metadata": {},
   "outputs": [
    {
     "data": {
      "text/plain": [
       "8.99"
      ]
     },
     "execution_count": 23,
     "metadata": {},
     "output_type": "execute_result"
    }
   ],
   "source": [
    "max_annual_yield(md_df, \"wheat\")"
   ]
  },
  {
   "cell_type": "code",
   "execution_count": 43,
   "metadata": {},
   "outputs": [],
   "source": [
    "def tot_rainfall(df, pollution_level):\n",
    "    \"\"\"\n",
    "    Calculates the total rainfall for crop types with pollution level greater than the specified threshold.\n",
    "\n",
    "    Args:\n",
    "        df(pandas.DataFrame): The input dataframe.\n",
    "        pollution_level(int): The pollution level threshold.\n",
    "\n",
    "    Returns:\n",
    "        float: The total rainfall.\n",
    "\n",
    "    Raise:\n",
    "        ValueError: If the \"Crop_type\", \"Pollution_level\", \"Rainfall\" columns are not present in the specified dataframe.\n",
    "    \"\"\"\n",
    "    #Check if columns \"Crop_type\", \"Pollution_level\", \"Rainfall\" exists.\n",
    "    if \"Crop_type\"not in df.columns or \"Pollution_level\" not in df.columns or \"Rainfall\" not in df.columns:\n",
    "        raise ValueError(\"The specified dataframe does not contain the required columns.\")\n",
    "    else:\n",
    "        #Groups the dataframe by \"Crop_type\".\n",
    "        grouped_data = df.groupby(\"Crop_type\")\n",
    "\n",
    "        #Finds the average pollution level for each group.\n",
    "        avg_pollution_level = grouped_data[\"Pollution_level\"].mean()\n",
    "\n",
    "          # Filter crop types with average pollution level above the threshold\n",
    "        high_pollution_crops = avg_pollution_level[avg_pollution_level > pollution_level]\n",
    "\n",
    "        # Filter the original data for these crop types\n",
    "        filtered_df = df[df['Crop_type'].isin(high_pollution_crops.index)]\n",
    "\n",
    "        # Calculate the total rainfall for each crop type in the filtered data\n",
    "        total_rainfall_high_pollution = filtered_df['Rainfall'].sum()\n",
    "\n",
    "        return total_rainfall_high_pollution\n",
    "               "
   ]
  },
  {
   "cell_type": "code",
   "execution_count": 44,
   "metadata": {},
   "outputs": [
    {
     "data": {
      "text/plain": [
       "941959.7"
      ]
     },
     "execution_count": 44,
     "metadata": {},
     "output_type": "execute_result"
    }
   ],
   "source": [
    "tot_rainfall(md_df, 0.2)"
   ]
  },
  {
   "cell_type": "code",
   "execution_count": 47,
   "metadata": {},
   "outputs": [],
   "source": [
    "def calculate_temp_range(df, field_id):\n",
    "    \"\"\"\n",
    "    Calculates the temperature range for the specified field ID.\n",
    "\n",
    "    Args:\n",
    "        df(pandas.DataFrame): The input dataframe.\n",
    "        field_id(int): The field Id\n",
    "\n",
    "    Retruns:\n",
    "        float: The temperature range.\n",
    "    \n",
    "    Raises:\n",
    "        ValueError: If the Field_ID column is not present in the specified dataframe.\n",
    "        ValueError: If the specified field ID is not present in the \"Field_ID\" column.\n",
    "    \"\"\"\n",
    "    #Check if \"Field_ID\" column exists.\n",
    "    if \"Field_ID\" not in df.columns:\n",
    "        raise ValueError(\"The specified dataframe does not contain the 'Field_ID' column.\")\n",
    "    else:\n",
    "       #Checks if the specified field ID is present in the \"Field_ID\" column.\n",
    "        if field_id not in df[\"Field_ID\"].unique():\n",
    "            raise ValueError(\"The specified field Id is not present in the dataframe.\")\n",
    "        else:\n",
    "            #Filters the dataframe by the specified field ID\n",
    "            filtered_df = df[df[\"Field_ID\"] == field_id]\n",
    "\n",
    "            #Calculates the temperature range\n",
    "            temp_range = filtered_df[\"Max_temperature_C\"] - filtered_df[\"Min_temperature_C\"]\n",
    "\n",
    "            return temp_range"
   ]
  },
  {
   "cell_type": "code",
   "execution_count": 50,
   "metadata": {},
   "outputs": [
    {
     "name": "stdout",
     "output_type": "stream",
     "text": [
      "135    40.7\n",
      "dtype: float64 644    35.7\n",
      "dtype: float64 892    33.4\n",
      "dtype: float64\n"
     ]
    }
   ],
   "source": [
    "temp_1 =calculate_temp_range(md_df, 1458)\n",
    "temp_2 = calculate_temp_range(md_df, 1895)\n",
    "temp_3 = calculate_temp_range(md_df, 5443)\n",
    "print(temp_1, temp_2, temp_3)"
   ]
  },
  {
   "cell_type": "code",
   "execution_count": 53,
   "metadata": {},
   "outputs": [],
   "source": [
    "def tot_plot_size_low_pH(df, pH):\n",
    "    \"\"\"\n",
    "    Calculates the total plot size for fields with pH lower than the specified threshold.\n",
    "\n",
    "    Args:\n",
    "        df(pandas.DataFrame): The input dataframe.\n",
    "        pH(float): The pH threshold.\n",
    "\n",
    "    Returns:\n",
    "        float: The total plot size.\n",
    "\n",
    "    Raises:\n",
    "        ValueError: If the \"Field_ID\", \"pH\", \"Plot_size\" columns are not present in the specified dataframe.\n",
    "    \"\"\"\n",
    "    \n",
    "    #Checks if \"Field_ID\", \"pH\", \"Plot_size\" columns exist.\n",
    "    if \"Field_ID\" not in df.columns or \"pH\" not in df.columns or \"Plot_size\" not in df.columns:\n",
    "        raise ValueError(\"The specified dataframe does not contain the required columns.\")\n",
    "    else:\n",
    "        #Filters the dataframe by the specified pH\n",
    "        filtered_df = df[df[\"pH\"] < pH]\n",
    "\n",
    "        #Calculates the total plot size\n",
    "        total_plot_size = filtered_df[\"Plot_size\"].sum()\n",
    "\n",
    "        return total_plot_size"
   ]
  },
  {
   "cell_type": "code",
   "execution_count": 54,
   "metadata": {},
   "outputs": [
    {
     "data": {
      "text/plain": [
       "1731.8999999999999"
      ]
     },
     "execution_count": 54,
     "metadata": {},
     "output_type": "execute_result"
    }
   ],
   "source": [
    "tot_plot_size_low_pH(md_df, 5.5)"
   ]
  },
  {
   "cell_type": "code",
   "execution_count": 57,
   "metadata": {},
   "outputs": [
    {
     "name": "stdout",
     "output_type": "stream",
     "text": [
      "319\n"
     ]
    }
   ],
   "source": [
    "#DataFrame that includes entries with a min_temp < -5 and max_temp > 30\n",
    "md_df\n",
    "filtered_df = md_df[(md_df['Min_temperature_C']< -5) & (md_df['Max_temperature_C']> 30)]\n",
    "number_of_rows = filtered_df.shape[0]\n",
    "print(number_of_rows)"
   ]
  },
  {
   "cell_type": "code",
   "execution_count": 62,
   "metadata": {},
   "outputs": [],
   "source": [
    "def std_dev_large_plots(df):\n",
    "    \"\"\"\n",
    "    Calculates the standard deviation of plot sizes for fields with plot sizes greater than the median.\n",
    "\n",
    "    Args:\n",
    "        df(pandas.DataFrame): The input dataframe.\n",
    "\n",
    "    Returns:\n",
    "        float: The standard deviation of the rainfall rounded off to 2 decimal places.\n",
    "    \n",
    "    Raises:\n",
    "        ValueError: If the \"Field_ID\", \"Plot_size\", \"Rainfall\" columns are not present in specified dataframe.\n",
    "    \"\"\"\n",
    "    #Checks if \"Field_ID\", \"Plot_size\" columns exist.\n",
    "    if \"Field_ID\" not in df.columns or \"Plot_size\" not in df.columns or \"Rainfall\" not in df.columns:\n",
    "        raise ValueError(\"The specified dataframe does not contain the required columns.\")\n",
    "    else:\n",
    "        #Calculates the median of the plot sizes.\n",
    "        plot_size_median = df['Plot_size'].median()\n",
    "\n",
    "        #Filters the dataframe by the plot sizes greater than the median\n",
    "        filtered_df = df[df['Plot_size'] > plot_size_median]\n",
    "        \n",
    "        #Calculates the standard deviation of the plot sizes\n",
    "        std_dev = filtered_df['Rainfall'].std()\n",
    "\n",
    "        return round(std_dev, 2)"
   ]
  },
  {
   "cell_type": "code",
   "execution_count": 63,
   "metadata": {},
   "outputs": [
    {
     "data": {
      "text/plain": [
       "470.09"
      ]
     },
     "execution_count": 63,
     "metadata": {},
     "output_type": "execute_result"
    }
   ],
   "source": [
    "std_dev_large_plots(md_df)"
   ]
  },
  {
   "cell_type": "code",
   "execution_count": 66,
   "metadata": {},
   "outputs": [],
   "source": [
    "def count_crop_type_and_temp(df):\n",
    "    \"\"\"\n",
    "    Calculates the number of crop types and the most common maximum temperature.\n",
    "\n",
    "    Args:\n",
    "        df(pandas.DataFrame): The input dataframe.\n",
    "\n",
    "    Returns:\n",
    "        dict: A dictionary containing the crop type, the number of the crop types and the most common maximum temerature.\n",
    "    \n",
    "    Raises:\n",
    "        ValueError: If the \"Crop_type\", \"Max_temperature_C\" columns are not present in the specified dataframe.\n",
    "    \"\"\"\n",
    "    #Checks if the \"Crop_type\", \"Max_temperature_C\" columns exist.\n",
    "    if 'Crop_type' not in df.columns or 'Max_temperature_C' not in df.columns:\n",
    "        raise ValueError(\"The specified dataframe does not contain the required columns.\")\n",
    "    else:\n",
    "        #Calculates the number of crop types.\n",
    "        crop_count = df.groupby('Crop_type')['Crop_type'].count().to_dict()\n",
    "\n",
    "        #Calculates the most common maximum temperature.\n",
    "        max_temp = df['Max_temperature_C'].mode()[0]\n",
    "\n",
    "        return {\n",
    "            'Crop counts' : crop_count,\n",
    "            'Most common maximum temperature' : max_temp\n",
    "        }"
   ]
  },
  {
   "cell_type": "code",
   "execution_count": 67,
   "metadata": {},
   "outputs": [
    {
     "data": {
      "text/plain": [
       "{'Crop counts': {'banana': 103,\n",
       "  'cassava': 141,\n",
       "  'coffee': 99,\n",
       "  'maize': 82,\n",
       "  'potato': 146,\n",
       "  'rice': 48,\n",
       "  'tea': 137,\n",
       "  'wheat': 244},\n",
       " 'Most common maximum temperature': 30.7}"
      ]
     },
     "execution_count": 67,
     "metadata": {},
     "output_type": "execute_result"
    }
   ],
   "source": [
    "count_crop_type_and_temp(md_df)"
   ]
  },
  {
   "cell_type": "code",
   "execution_count": 68,
   "metadata": {},
   "outputs": [],
   "source": [
    "def crop_type_sum(df, crop_type):\n",
    "    \"\"\"\n",
    "    Calculate the integer value of a crop type based on the length of its name.\n",
    "\n",
    "    Args:\n",
    "        df(pandas.DataFrame): The input dataframe.\n",
    "        crop_type(str): The name of the crop type.\n",
    "\n",
    "    Returns:\n",
    "        int: The integer value of the crop type.\n",
    "\n",
    "    Raises:\n",
    "        ValueError: If the \"Crop_type\" column is not present in the specified dataframe.\n",
    "        ValueError: If the specified crop type is not present in the \"Crop_type\" column.\n",
    "    \"\"\"\n",
    "\n",
    "    #Checks if the \"Crop_type\" column exists.\n",
    "    if 'Crop_type' not in df.columns:\n",
    "        raise ValueError(\"The specified dataframe does not contain the 'Crop_type' column.\")\n",
    "    \n",
    "    #Checks if the crop_type is present in the \"Crop_type\" column.\n",
    "    if crop_type not in df['Crop_type'].unique():\n",
    "        raise ValueError(\"The specified crop type is not present in the dataframe.\")\n",
    "    else:\n",
    "        #Calculate the integer value of the crop type.\n",
    "        crop_type_int = len(crop_type)\n",
    "        \n",
    "        return crop_type_int"
   ]
  },
  {
   "cell_type": "code",
   "execution_count": 71,
   "metadata": {},
   "outputs": [
    {
     "data": {
      "text/plain": [
       "42"
      ]
     },
     "execution_count": 71,
     "metadata": {},
     "output_type": "execute_result"
    }
   ],
   "source": [
    "banana_int = crop_type_sum(md_df, 'banana')\n",
    "cassava_int = crop_type_sum(md_df, 'cassava')\n",
    "coffee_int = crop_type_sum(md_df, 'coffee')\n",
    "maize_int = crop_type_sum(md_df, 'maize')\n",
    "potato_int = crop_type_sum(md_df, 'potato')\n",
    "rice_int = crop_type_sum(md_df, 'rice')\n",
    "tea_int = crop_type_sum(md_df, 'tea')\n",
    "wheat_int = crop_type_sum(md_df, 'wheat')\n",
    "sum_int = banana_int + cassava_int + coffee_int + maize_int + potato_int + rice_int + tea_int + wheat_int\n",
    "sum_int"
   ]
  }
 ],
 "metadata": {
  "kernelspec": {
   "display_name": "Alx_python_projects",
   "language": "python",
   "name": "python3"
  },
  "language_info": {
   "codemirror_mode": {
    "name": "ipython",
    "version": 3
   },
   "file_extension": ".py",
   "mimetype": "text/x-python",
   "name": "python",
   "nbconvert_exporter": "python",
   "pygments_lexer": "ipython3",
   "version": "3.11.7"
  }
 },
 "nbformat": 4,
 "nbformat_minor": 2
}
